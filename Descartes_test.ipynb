{
 "cells": [
  {
   "cell_type": "markdown",
   "id": "47ef2321",
   "metadata": {},
   "source": [
    "# Descartes Underwriting - OULID AZOUZ"
   ]
  },
  {
   "cell_type": "code",
   "execution_count": 3,
   "id": "cf8df8c9",
   "metadata": {},
   "outputs": [],
   "source": [
    "import pandas as pd\n",
    "from pandas.plotting import scatter_matrix\n",
    "\n",
    "import seaborn as sns\n",
    "import numpy as np\n",
    "import sklearn\n",
    "import scipy.stats\n",
    "\n",
    "\n",
    "import matplotlib.pyplot as plt\n",
    "%matplotlib inline \n"
   ]
  },
  {
   "cell_type": "markdown",
   "id": "b6a59791",
   "metadata": {},
   "source": [
    "# Get and explore data"
   ]
  },
  {
   "cell_type": "code",
   "execution_count": 4,
   "id": "12db9b60",
   "metadata": {},
   "outputs": [
    {
     "name": "stdout",
     "output_type": "stream",
     "text": [
      "<class 'pandas.core.frame.DataFrame'>\n",
      "RangeIndex: 8161 entries, 0 to 8160\n",
      "Data columns (total 26 columns):\n",
      " #   Column       Non-Null Count  Dtype  \n",
      "---  ------       --------------  -----  \n",
      " 0   INDEX        8161 non-null   int64  \n",
      " 1   TARGET_FLAG  8161 non-null   int64  \n",
      " 2   TARGET_AMT   8161 non-null   float64\n",
      " 3   KIDSDRIV     8161 non-null   int64  \n",
      " 4   AGE          8155 non-null   float64\n",
      " 5   HOMEKIDS     8161 non-null   int64  \n",
      " 6   YOJ          7707 non-null   float64\n",
      " 7   INCOME       7716 non-null   object \n",
      " 8   PARENT1      8161 non-null   object \n",
      " 9   HOME_VAL     7697 non-null   object \n",
      " 10  MSTATUS      8161 non-null   object \n",
      " 11  SEX          8161 non-null   object \n",
      " 12  EDUCATION    8161 non-null   object \n",
      " 13  JOB          7635 non-null   object \n",
      " 14  TRAVTIME     8161 non-null   int64  \n",
      " 15  CAR_USE      8161 non-null   object \n",
      " 16  BLUEBOOK     8161 non-null   object \n",
      " 17  TIF          8161 non-null   int64  \n",
      " 18  CAR_TYPE     8161 non-null   object \n",
      " 19  RED_CAR      8161 non-null   object \n",
      " 20  OLDCLAIM     8161 non-null   object \n",
      " 21  CLM_FREQ     8161 non-null   int64  \n",
      " 22  REVOKED      8161 non-null   object \n",
      " 23  MVR_PTS      8161 non-null   int64  \n",
      " 24  CAR_AGE      7651 non-null   float64\n",
      " 25  URBANICITY   8161 non-null   object \n",
      "dtypes: float64(4), int64(8), object(14)\n",
      "memory usage: 1.6+ MB\n",
      "None\n"
     ]
    },
    {
     "data": {
      "text/html": [
       "<div>\n",
       "<style scoped>\n",
       "    .dataframe tbody tr th:only-of-type {\n",
       "        vertical-align: middle;\n",
       "    }\n",
       "\n",
       "    .dataframe tbody tr th {\n",
       "        vertical-align: top;\n",
       "    }\n",
       "\n",
       "    .dataframe thead th {\n",
       "        text-align: right;\n",
       "    }\n",
       "</style>\n",
       "<table border=\"1\" class=\"dataframe\">\n",
       "  <thead>\n",
       "    <tr style=\"text-align: right;\">\n",
       "      <th></th>\n",
       "      <th>INDEX</th>\n",
       "      <th>TARGET_FLAG</th>\n",
       "      <th>TARGET_AMT</th>\n",
       "      <th>KIDSDRIV</th>\n",
       "      <th>AGE</th>\n",
       "      <th>HOMEKIDS</th>\n",
       "      <th>YOJ</th>\n",
       "      <th>INCOME</th>\n",
       "      <th>PARENT1</th>\n",
       "      <th>HOME_VAL</th>\n",
       "      <th>...</th>\n",
       "      <th>BLUEBOOK</th>\n",
       "      <th>TIF</th>\n",
       "      <th>CAR_TYPE</th>\n",
       "      <th>RED_CAR</th>\n",
       "      <th>OLDCLAIM</th>\n",
       "      <th>CLM_FREQ</th>\n",
       "      <th>REVOKED</th>\n",
       "      <th>MVR_PTS</th>\n",
       "      <th>CAR_AGE</th>\n",
       "      <th>URBANICITY</th>\n",
       "    </tr>\n",
       "  </thead>\n",
       "  <tbody>\n",
       "    <tr>\n",
       "      <th>0</th>\n",
       "      <td>1</td>\n",
       "      <td>0</td>\n",
       "      <td>0.0</td>\n",
       "      <td>0</td>\n",
       "      <td>60.0</td>\n",
       "      <td>0</td>\n",
       "      <td>11.0</td>\n",
       "      <td>$67,349</td>\n",
       "      <td>No</td>\n",
       "      <td>$0</td>\n",
       "      <td>...</td>\n",
       "      <td>$14,230</td>\n",
       "      <td>11</td>\n",
       "      <td>Minivan</td>\n",
       "      <td>yes</td>\n",
       "      <td>$4,461</td>\n",
       "      <td>2</td>\n",
       "      <td>No</td>\n",
       "      <td>3</td>\n",
       "      <td>18.0</td>\n",
       "      <td>Highly Urban/ Urban</td>\n",
       "    </tr>\n",
       "    <tr>\n",
       "      <th>1</th>\n",
       "      <td>2</td>\n",
       "      <td>0</td>\n",
       "      <td>0.0</td>\n",
       "      <td>0</td>\n",
       "      <td>43.0</td>\n",
       "      <td>0</td>\n",
       "      <td>11.0</td>\n",
       "      <td>$91,449</td>\n",
       "      <td>No</td>\n",
       "      <td>$257,252</td>\n",
       "      <td>...</td>\n",
       "      <td>$14,940</td>\n",
       "      <td>1</td>\n",
       "      <td>Minivan</td>\n",
       "      <td>yes</td>\n",
       "      <td>$0</td>\n",
       "      <td>0</td>\n",
       "      <td>No</td>\n",
       "      <td>0</td>\n",
       "      <td>1.0</td>\n",
       "      <td>Highly Urban/ Urban</td>\n",
       "    </tr>\n",
       "    <tr>\n",
       "      <th>2</th>\n",
       "      <td>4</td>\n",
       "      <td>0</td>\n",
       "      <td>0.0</td>\n",
       "      <td>0</td>\n",
       "      <td>35.0</td>\n",
       "      <td>1</td>\n",
       "      <td>10.0</td>\n",
       "      <td>$16,039</td>\n",
       "      <td>No</td>\n",
       "      <td>$124,191</td>\n",
       "      <td>...</td>\n",
       "      <td>$4,010</td>\n",
       "      <td>4</td>\n",
       "      <td>z_SUV</td>\n",
       "      <td>no</td>\n",
       "      <td>$38,690</td>\n",
       "      <td>2</td>\n",
       "      <td>No</td>\n",
       "      <td>3</td>\n",
       "      <td>10.0</td>\n",
       "      <td>Highly Urban/ Urban</td>\n",
       "    </tr>\n",
       "    <tr>\n",
       "      <th>3</th>\n",
       "      <td>5</td>\n",
       "      <td>0</td>\n",
       "      <td>0.0</td>\n",
       "      <td>0</td>\n",
       "      <td>51.0</td>\n",
       "      <td>0</td>\n",
       "      <td>14.0</td>\n",
       "      <td>NaN</td>\n",
       "      <td>No</td>\n",
       "      <td>$306,251</td>\n",
       "      <td>...</td>\n",
       "      <td>$15,440</td>\n",
       "      <td>7</td>\n",
       "      <td>Minivan</td>\n",
       "      <td>yes</td>\n",
       "      <td>$0</td>\n",
       "      <td>0</td>\n",
       "      <td>No</td>\n",
       "      <td>0</td>\n",
       "      <td>6.0</td>\n",
       "      <td>Highly Urban/ Urban</td>\n",
       "    </tr>\n",
       "    <tr>\n",
       "      <th>4</th>\n",
       "      <td>6</td>\n",
       "      <td>0</td>\n",
       "      <td>0.0</td>\n",
       "      <td>0</td>\n",
       "      <td>50.0</td>\n",
       "      <td>0</td>\n",
       "      <td>NaN</td>\n",
       "      <td>$114,986</td>\n",
       "      <td>No</td>\n",
       "      <td>$243,925</td>\n",
       "      <td>...</td>\n",
       "      <td>$18,000</td>\n",
       "      <td>1</td>\n",
       "      <td>z_SUV</td>\n",
       "      <td>no</td>\n",
       "      <td>$19,217</td>\n",
       "      <td>2</td>\n",
       "      <td>Yes</td>\n",
       "      <td>3</td>\n",
       "      <td>17.0</td>\n",
       "      <td>Highly Urban/ Urban</td>\n",
       "    </tr>\n",
       "  </tbody>\n",
       "</table>\n",
       "<p>5 rows × 26 columns</p>\n",
       "</div>"
      ],
      "text/plain": [
       "   INDEX  TARGET_FLAG  TARGET_AMT  KIDSDRIV   AGE  HOMEKIDS   YOJ     INCOME  \\\n",
       "0      1            0         0.0         0  60.0         0  11.0   $67,349    \n",
       "1      2            0         0.0         0  43.0         0  11.0   $91,449    \n",
       "2      4            0         0.0         0  35.0         1  10.0   $16,039    \n",
       "3      5            0         0.0         0  51.0         0  14.0        NaN   \n",
       "4      6            0         0.0         0  50.0         0   NaN  $114,986    \n",
       "\n",
       "  PARENT1   HOME_VAL  ...  BLUEBOOK TIF CAR_TYPE RED_CAR  OLDCLAIM CLM_FREQ  \\\n",
       "0      No        $0   ...  $14,230   11  Minivan     yes   $4,461         2   \n",
       "1      No  $257,252   ...  $14,940    1  Minivan     yes       $0         0   \n",
       "2      No  $124,191   ...   $4,010    4    z_SUV      no  $38,690         2   \n",
       "3      No  $306,251   ...  $15,440    7  Minivan     yes       $0         0   \n",
       "4      No  $243,925   ...  $18,000    1    z_SUV      no  $19,217         2   \n",
       "\n",
       "  REVOKED  MVR_PTS CAR_AGE           URBANICITY  \n",
       "0      No        3    18.0  Highly Urban/ Urban  \n",
       "1      No        0     1.0  Highly Urban/ Urban  \n",
       "2      No        3    10.0  Highly Urban/ Urban  \n",
       "3      No        0     6.0  Highly Urban/ Urban  \n",
       "4     Yes        3    17.0  Highly Urban/ Urban  \n",
       "\n",
       "[5 rows x 26 columns]"
      ]
     },
     "execution_count": 4,
     "metadata": {},
     "output_type": "execute_result"
    }
   ],
   "source": [
    "data = pd.read_csv(\"train_auto.csv\")\n",
    "print(data.info())\n",
    "data.head()"
   ]
  },
  {
   "cell_type": "markdown",
   "id": "12abd889",
   "metadata": {},
   "source": [
    "The database is made of 8161 entries and 26 columns (the Index, 2 targets, and 23 features to use). \n",
    "\n",
    "\n",
    "First, let's check about any double ID we could have."
   ]
  },
  {
   "cell_type": "code",
   "execution_count": 5,
   "id": "0085ac5a",
   "metadata": {},
   "outputs": [
    {
     "data": {
      "text/plain": [
       "1        1\n",
       "6874     1\n",
       "6890     1\n",
       "6889     1\n",
       "6888     1\n",
       "        ..\n",
       "3444     1\n",
       "3441     1\n",
       "3440     1\n",
       "3439     1\n",
       "10302    1\n",
       "Name: INDEX, Length: 8161, dtype: int64"
      ]
     },
     "execution_count": 5,
     "metadata": {},
     "output_type": "execute_result"
    }
   ],
   "source": [
    "data['INDEX'].value_counts()"
   ]
  },
  {
   "cell_type": "markdown",
   "id": "097c2c0f",
   "metadata": {},
   "source": [
    "Seems like we are good and have no double ID's : the maximum is number of line for one ID is 1. Regarding the index columns, it looks the data were already processed before (jumps from an ID to another). Let's us INDEX as the df index."
   ]
  },
  {
   "cell_type": "code",
   "execution_count": 6,
   "id": "01167fe7",
   "metadata": {},
   "outputs": [],
   "source": [
    "df = data.set_index('INDEX')"
   ]
  },
  {
   "cell_type": "markdown",
   "id": "db433813",
   "metadata": {},
   "source": [
    "## Framing the problem and looking at the big picture"
   ]
  },
  {
   "cell_type": "markdown",
   "id": "3b9b3311",
   "metadata": {},
   "source": [
    "Let's try to understand the problem that this dataset confronts us with. Let's first look at what the variables and the target to in order to understand the context. The target for this project is TARGET_FLAG."
   ]
  },
  {
   "cell_type": "code",
   "execution_count": 9,
   "id": "09008b21",
   "metadata": {},
   "outputs": [
    {
     "data": {
      "text/plain": [
       "0    6008\n",
       "1    2153\n",
       "Name: TARGET_FLAG, dtype: int64"
      ]
     },
     "execution_count": 9,
     "metadata": {},
     "output_type": "execute_result"
    }
   ],
   "source": [
    "#to have an idea of our target: \n",
    "df['TARGET_FLAG'].value_counts()"
   ]
  },
  {
   "cell_type": "markdown",
   "id": "785c61f3",
   "metadata": {},
   "source": [
    " Considering the variables and the values taken by the target, it seems that the problem consists in training a model to determine if the individual presents a risk accident (and so using its insurance policy) taking into account all the other parameters. \n",
    "\n",
    "The variable  two values (0 and 1), so we are facing a supervised problem of binary classification.\n",
    "\n",
    "Regarding TARGET_AMT, it looks like the data is non 0 only when TARGET_FLAG is 1. Tis target might correspond to a claim amount and it makes us understand that TARGET_FLAG=1 means the policy was activated.\n"
   ]
  },
  {
   "cell_type": "code",
   "execution_count": null,
   "id": "5a14d18f",
   "metadata": {},
   "outputs": [],
   "source": []
  }
 ],
 "metadata": {
  "kernelspec": {
   "display_name": "descartesvenv",
   "language": "python",
   "name": "descartesvenv"
  },
  "language_info": {
   "codemirror_mode": {
    "name": "ipython",
    "version": 3
   },
   "file_extension": ".py",
   "mimetype": "text/x-python",
   "name": "python",
   "nbconvert_exporter": "python",
   "pygments_lexer": "ipython3",
   "version": "3.8.10"
  },
  "toc": {
   "base_numbering": 1,
   "nav_menu": {},
   "number_sections": true,
   "sideBar": true,
   "skip_h1_title": false,
   "title_cell": "Table of Contents",
   "title_sidebar": "Contents",
   "toc_cell": false,
   "toc_position": {
    "height": "calc(100% - 180px)",
    "left": "10px",
    "top": "150px",
    "width": "284.667px"
   },
   "toc_section_display": true,
   "toc_window_display": false
  },
  "varInspector": {
   "cols": {
    "lenName": 16,
    "lenType": 16,
    "lenVar": 40
   },
   "kernels_config": {
    "python": {
     "delete_cmd_postfix": "",
     "delete_cmd_prefix": "del ",
     "library": "var_list.py",
     "varRefreshCmd": "print(var_dic_list())"
    },
    "r": {
     "delete_cmd_postfix": ") ",
     "delete_cmd_prefix": "rm(",
     "library": "var_list.r",
     "varRefreshCmd": "cat(var_dic_list()) "
    }
   },
   "types_to_exclude": [
    "module",
    "function",
    "builtin_function_or_method",
    "instance",
    "_Feature"
   ],
   "window_display": false
  }
 },
 "nbformat": 4,
 "nbformat_minor": 5
}
